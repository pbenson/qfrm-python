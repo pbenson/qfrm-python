{
 "cells": [
  {
   "cell_type": "markdown",
   "metadata": {},
   "source": [
    "# Python Basics\n",
    "\n",
    "This is a collection of exercises that I wrote as a refresher of key Python features.\n",
    "\n",
    "## Built-in datatypes and variable binding\n",
    "Python uses [dynamic typing](http://stackoverflow.com/questions/11328920/is-python-strongly-typed). In short, this means that the type of data in a variable is not explicitly identified in a program, like it is in C++ or Java. "
   ]
  },
  {
   "cell_type": "code",
   "execution_count": 4,
   "metadata": {
    "collapsed": false
   },
   "outputs": [
    {
     "name": "stdout",
     "output_type": "stream",
     "text": [
      "2 <type 'int'>\n",
      "<type 'float'>\n",
      "3.0 <type 'float'>\n",
      "QFRM <type 'str'>\n",
      "True <type 'bool'>\n",
      "1267650600228229401496703205376 <type 'long'>\n",
      "['a', 2, 3.14, True] <type 'list'>\n"
     ]
    }
   ],
   "source": [
    "x = 2\n",
    "print x, type(x)\n",
    "print type(1.0)\n",
    "x = x + 1.0\n",
    "print x, type(x)\n",
    "x = 'QFRM'\n",
    "print x, type(x)\n",
    "x = False\n",
    "x = not x\n",
    "print x, type(x)\n",
    "print 2**100, type(2**100)\n",
    "x=['a', 2, 3.14, not False]\n",
    "print x, type(x)\n"
   ]
  },
  {
   "cell_type": "markdown",
   "metadata": {},
   "source": [
    "## ints and floats\n",
    "\n",
    "Operations involving only ints will yield another int. An operation involving a float willyield a float."
   ]
  },
  {
   "cell_type": "code",
   "execution_count": 5,
   "metadata": {
    "collapsed": false
   },
   "outputs": [
    {
     "name": "stdout",
     "output_type": "stream",
     "text": [
      "7/2 is 3\n",
      "7%2 is 1\n",
      "7.0/2 is  3.5\n",
      "z= 3\n"
     ]
    }
   ],
   "source": [
    "print \"7/2 is\",7/2\n",
    "print \"7%2 is\", 7%2\n",
    "print \"7.0/2 is \", 7.0/2\n",
    "x = 30\n",
    "y = 8\n",
    "z = x/y\n",
    "print \"z=\", z"
   ]
  },
  {
   "cell_type": "markdown",
   "metadata": {},
   "source": [
    "### boolean\n",
    "Python's boolean values are True and False. It is case-sensitive: capitalizing the first letter is required. "
   ]
  },
  {
   "cell_type": "code",
   "execution_count": 7,
   "metadata": {
    "collapsed": false
   },
   "outputs": [
    {
     "name": "stdout",
     "output_type": "stream",
     "text": [
      "a is True\n",
      "b is False\n",
      "a and b is False\n",
      "a or b is True\n"
     ]
    }
   ],
   "source": [
    "a = True\n",
    "b = not a\n",
    "print \"a is\", a\n",
    "print \"b is\", b\n",
    "print \"a and b is\", a and b\n",
    "print \"a or b is\", a or b"
   ]
  },
  {
   "cell_type": "markdown",
   "metadata": {},
   "source": [
    "### Strings\n",
    "\n",
    "Strings (type 'str') are objects. Strings are concatenated using the '+' operator. "
   ]
  },
  {
   "cell_type": "code",
   "execution_count": 8,
   "metadata": {
    "collapsed": false
   },
   "outputs": [
    {
     "name": "stdout",
     "output_type": "stream",
     "text": [
      "Hello World\n",
      "['Hello', 'World']\n",
      "Hello_World\n"
     ]
    }
   ],
   "source": [
    "a = 'Hello'\n",
    "b = 'World'\n",
    "c = a + ' ' + b\n",
    "print c\n",
    "words = c.split()\n",
    "print words\n",
    "print '_'.join(words)"
   ]
  },
  {
   "cell_type": "markdown",
   "metadata": {},
   "source": [
    "### Lists\n",
    "\n",
    "Lists are like arrays in C++ or Java. However, they are easily lengthened or shortened, store mixed data types, and feature *list comprehensions*."
   ]
  },
  {
   "cell_type": "code",
   "execution_count": 9,
   "metadata": {
    "collapsed": false
   },
   "outputs": [
    {
     "name": "stdout",
     "output_type": "stream",
     "text": [
      "[0, 1, 2, 3, 4, 5, 6, 7, 8, 9] [0, 1] [1, 2] [2, 3, 4, 5, 6, 7, 8, 9]\n",
      "[1, 3, 5]\n",
      "[1, 3, 5, 1, 3, 5]\n",
      "[0, 0, 0, 0, 0, 0, 0, 0, 0, 0]\n"
     ]
    }
   ],
   "source": [
    "x = [1, 2, 3, 4, 5]\n",
    "x = range(0, 10)\n",
    "print x, x[:2], x[1:3], x[2:] #slices\n",
    "\n",
    "y = range(1, 6, 2)\n",
    "print y\n",
    "print y * 2\n",
    "print [0]*10"
   ]
  },
  {
   "cell_type": "code",
   "execution_count": 10,
   "metadata": {
    "collapsed": false
   },
   "outputs": [
    {
     "name": "stdout",
     "output_type": "stream",
     "text": [
      "[0, 1, 4, 9, 16, 25, 36, 49, 64, 81]\n",
      "[(0, 0), (1, 1), (2, 4), (3, 9), (4, 16), (5, 25), (6, 36), (7, 49), (8, 64), (9, 81)]\n"
     ]
    }
   ],
   "source": [
    "#List comprehension\n",
    "print [x*x for x in range(0,10)]\n",
    "print[(x, x*x) for x in range(0,10)]"
   ]
  },
  {
   "cell_type": "markdown",
   "metadata": {},
   "source": [
    "\n",
    "\n",
    "## Looping (for, while, reduce)\n",
    "for and while are typically used much more often than <code>reduce</code>. Of course, as the <code>sum</code> function example at the end shows, it is better to use a library call than to reinvent the wheel."
   ]
  },
  {
   "cell_type": "code",
   "execution_count": 11,
   "metadata": {
    "collapsed": false
   },
   "outputs": [
    {
     "name": "stdout",
     "output_type": "stream",
     "text": [
      "5050\n"
     ]
    }
   ],
   "source": [
    "#for\n",
    "#sum integers from 1 to 100\n",
    "sum_ = 0\n",
    "for n in range(1, 101):\n",
    "    sum_ += n\n",
    "print sum_    "
   ]
  },
  {
   "cell_type": "code",
   "execution_count": 12,
   "metadata": {
    "collapsed": false
   },
   "outputs": [
    {
     "name": "stdout",
     "output_type": "stream",
     "text": [
      "5050\n"
     ]
    }
   ],
   "source": [
    "#while\n",
    "#sum integers from 1 to 100\n",
    "sum_ = 0\n",
    "n = 1\n",
    "while n < 101:\n",
    "    sum_ += n\n",
    "    n += 1\n",
    "print sum_\n"
   ]
  },
  {
   "cell_type": "code",
   "execution_count": 13,
   "metadata": {
    "collapsed": false
   },
   "outputs": [
    {
     "name": "stdout",
     "output_type": "stream",
     "text": [
      "5050\n"
     ]
    }
   ],
   "source": [
    "#reduce\n",
    "#sum integers from 1 to 100\n",
    "print reduce(lambda n, sum_: n +sum_, range(1, 101))"
   ]
  },
  {
   "cell_type": "code",
   "execution_count": 14,
   "metadata": {
    "collapsed": false
   },
   "outputs": [
    {
     "name": "stdout",
     "output_type": "stream",
     "text": [
      "5050\n"
     ]
    }
   ],
   "source": [
    "#Python's sum\n",
    "print sum(range(1,101))"
   ]
  },
  {
   "cell_type": "code",
   "execution_count": 15,
   "metadata": {
    "collapsed": false
   },
   "outputs": [
    {
     "name": "stdout",
     "output_type": "stream",
     "text": [
      "5050.0\n"
     ]
    }
   ],
   "source": [
    "#preferred way to sum floating point (faster)\n",
    "import math\n",
    "print math.fsum(range(1,101))"
   ]
  },
  {
   "cell_type": "markdown",
   "metadata": {},
   "source": [
    "### Conditional execution (if)\n"
   ]
  },
  {
   "cell_type": "code",
   "execution_count": 16,
   "metadata": {
    "collapsed": false
   },
   "outputs": [
    {
     "name": "stdout",
     "output_type": "stream",
     "text": [
      "0.0957532406711  is in the bottom quartile\n"
     ]
    }
   ],
   "source": [
    "# the if statement\n",
    "import random as rnd\n",
    "r = rnd.random()\n",
    "if r < 0.25:\n",
    "    print r, \" is in the bottom quartile\"\n",
    "elif r < 0.5:\n",
    "    print r, \" is below the median\"\n",
    "else:\n",
    "    print r, \"is above the median\"\n",
    "    "
   ]
  },
  {
   "cell_type": "markdown",
   "metadata": {},
   "source": [
    "### Dictionaries\n",
    "\n",
    "A dictionary is like a list of key:value pairs. You can look things up quickly by key."
   ]
  },
  {
   "cell_type": "code",
   "execution_count": 20,
   "metadata": {
    "collapsed": false
   },
   "outputs": [
    {
     "name": "stdout",
     "output_type": "stream",
     "text": [
      "104.34\n"
     ]
    }
   ],
   "source": [
    "prices = {'AMZN':752.6, 'AAPL':104.34, 'FB':125}\n",
    "print prices['AAPL']"
   ]
  },
  {
   "cell_type": "code",
   "execution_count": 22,
   "metadata": {
    "collapsed": false
   },
   "outputs": [
    {
     "name": "stdout",
     "output_type": "stream",
     "text": [
      "{' ': 0, '.': 0, 'T': 0, 'a': 0, 'c': 0, 'b': 0, 'e': 0, 'd': 0, 'g': 0, 'f': 0, 'i': 0, 'h': 0, 'k': 0, 'j': 0, 'm': 0, 'l': 0, 'o': 0, 'n': 0, 'q': 0, 'p': 0, 's': 0, 'r': 0, 'u': 0, 't': 0, 'w': 0, 'v': 0, 'y': 0, 'x': 0, 'z': 0}\n",
      "{' ': 8, '.': 1, 'T': 1, 'a': 1, 'c': 1, 'b': 1, 'e': 3, 'd': 1, 'g': 1, 'f': 1, 'i': 1, 'h': 2, 'k': 1, 'j': 1, 'm': 1, 'l': 1, 'o': 4, 'n': 1, 'q': 1, 'p': 1, 's': 1, 'r': 2, 'u': 2, 't': 1, 'w': 1, 'v': 1, 'y': 1, 'x': 1, 'z': 1}\n"
     ]
    }
   ],
   "source": [
    "#distribution of characters in a string\n",
    "s = \"The quick brown fox jumps over the lazy dog.\"\n",
    "d = {c:0 for c in s}\n",
    "print d\n",
    "for c in s:\n",
    "    d[c] += 1\n",
    "print d"
   ]
  },
  {
   "cell_type": "markdown",
   "metadata": {},
   "source": [
    "## Functions"
   ]
  },
  {
   "cell_type": "code",
   "execution_count": 23,
   "metadata": {
    "collapsed": false
   },
   "outputs": [
    {
     "name": "stdout",
     "output_type": "stream",
     "text": [
      "720\n"
     ]
    }
   ],
   "source": [
    "def factorial(n):\n",
    "    if n < 2:\n",
    "        return 1\n",
    "    return n * factorial(n-1)\n",
    "print factorial(6)"
   ]
  },
  {
   "cell_type": "code",
   "execution_count": null,
   "metadata": {
    "collapsed": false
   },
   "outputs": [],
   "source": [
    "def gcd(a, b):\n",
    "# write this function...\n",
    "    \n",
    "    \n",
    "print gcd(144, 1024)"
   ]
  },
  {
   "cell_type": "code",
   "execution_count": null,
   "metadata": {
    "collapsed": true
   },
   "outputs": [],
   "source": []
  }
 ],
 "metadata": {
  "kernelspec": {
   "display_name": "Python 2",
   "language": "python",
   "name": "python2"
  },
  "language_info": {
   "codemirror_mode": {
    "name": "ipython",
    "version": 2
   },
   "file_extension": ".py",
   "mimetype": "text/x-python",
   "name": "python",
   "nbconvert_exporter": "python",
   "pygments_lexer": "ipython2",
   "version": "2.7.12"
  }
 },
 "nbformat": 4,
 "nbformat_minor": 0
}
